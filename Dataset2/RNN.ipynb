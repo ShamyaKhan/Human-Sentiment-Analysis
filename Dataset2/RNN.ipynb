{
  "cells": [
    {
      "cell_type": "code",
      "execution_count": null,
      "metadata": {
        "id": "7y9IFgslqMtW"
      },
      "outputs": [],
      "source": [
        "import numpy as np\n",
        "import pandas as pd\n",
        "import tensorflow as tf\n",
        "from tensorflow.keras.preprocessing.text import Tokenizer\n",
        "from tensorflow.keras.preprocessing.sequence import pad_sequences\n",
        "from tensorflow.keras.preprocessing.text import one_hot\n",
        "import matplotlib.pyplot as plt\n",
        "from tensorflow.keras import Sequential\n",
        "from tensorflow.keras.layers import Embedding, Dense, Dropout, BatchNormalization, Flatten, LSTM,Conv1D,MaxPooling1D\n",
        "from tensorflow.keras.callbacks import Callback, ReduceLROnPlateau\n",
        "from tensorflow.keras.optimizers import Adam\n",
        "from tensorflow.keras.layers import Dense, LSTM, Embedding, Dropout, Activation, Flatten, Input, concatenate, Conv1D, GlobalMaxPooling1D,SimpleRNN\n"
      ]
    },
    {
      "cell_type": "code",
      "execution_count": null,
      "metadata": {
        "id": "dZEu5jHuray1"
      },
      "outputs": [],
      "source": [
        "!pip install -U -q PyDrive\n",
        "from pydrive.auth import GoogleAuth\n",
        "from pydrive.drive import GoogleDrive\n",
        "from google.colab import auth\n",
        "from oauth2client.client import GoogleCredentials\n",
        "auth.authenticate_user()\n",
        "gauth = GoogleAuth()\n",
        "gauth.credentials = GoogleCredentials.get_application_default()\n",
        "drive = GoogleDrive(gauth)"
      ]
    },
    {
      "cell_type": "code",
      "execution_count": null,
      "metadata": {
        "id": "p9OLC0cxrscd"
      },
      "outputs": [],
      "source": [
        "link=\"https://drive.google.com/file/d/13DL3H3ShHMOuQo28TaxMsIiY59M8xMI8/view?usp=share_link\"\n",
        "id = link.split(\"/\")[-2]\n",
        "downloaded = drive.CreateFile({'id':id})\n",
        "downloaded.GetContentFile('Emotion_final.csv')\n",
        "df = pd.read_csv('Emotion_final.csv')"
      ]
    },
    {
      "cell_type": "code",
      "execution_count": null,
      "metadata": {
        "colab": {
          "base_uri": "https://localhost:8080/",
          "height": 206
        },
        "id": "DEhYr9YGsfHV",
        "outputId": "db2787ab-4199-47dc-a7ff-c3e84218650b"
      },
      "outputs": [
        {
          "data": {
            "text/html": [
              "\n",
              "  <div id=\"df-fb9dc06e-b920-4b54-a1a8-b92afb5076b4\">\n",
              "    <div class=\"colab-df-container\">\n",
              "      <div>\n",
              "<style scoped>\n",
              "    .dataframe tbody tr th:only-of-type {\n",
              "        vertical-align: middle;\n",
              "    }\n",
              "\n",
              "    .dataframe tbody tr th {\n",
              "        vertical-align: top;\n",
              "    }\n",
              "\n",
              "    .dataframe thead th {\n",
              "        text-align: right;\n",
              "    }\n",
              "</style>\n",
              "<table border=\"1\" class=\"dataframe\">\n",
              "  <thead>\n",
              "    <tr style=\"text-align: right;\">\n",
              "      <th></th>\n",
              "      <th>Text</th>\n",
              "      <th>Emotion</th>\n",
              "    </tr>\n",
              "  </thead>\n",
              "  <tbody>\n",
              "    <tr>\n",
              "      <th>0</th>\n",
              "      <td>i didnt feel humiliated</td>\n",
              "      <td>sadness</td>\n",
              "    </tr>\n",
              "    <tr>\n",
              "      <th>1</th>\n",
              "      <td>i can go from feeling so hopeless to so damned...</td>\n",
              "      <td>sadness</td>\n",
              "    </tr>\n",
              "    <tr>\n",
              "      <th>2</th>\n",
              "      <td>im grabbing a minute to post i feel greedy wrong</td>\n",
              "      <td>anger</td>\n",
              "    </tr>\n",
              "    <tr>\n",
              "      <th>3</th>\n",
              "      <td>i am ever feeling nostalgic about the fireplac...</td>\n",
              "      <td>love</td>\n",
              "    </tr>\n",
              "    <tr>\n",
              "      <th>4</th>\n",
              "      <td>i am feeling grouchy</td>\n",
              "      <td>anger</td>\n",
              "    </tr>\n",
              "  </tbody>\n",
              "</table>\n",
              "</div>\n",
              "      <button class=\"colab-df-convert\" onclick=\"convertToInteractive('df-fb9dc06e-b920-4b54-a1a8-b92afb5076b4')\"\n",
              "              title=\"Convert this dataframe to an interactive table.\"\n",
              "              style=\"display:none;\">\n",
              "        \n",
              "  <svg xmlns=\"http://www.w3.org/2000/svg\" height=\"24px\"viewBox=\"0 0 24 24\"\n",
              "       width=\"24px\">\n",
              "    <path d=\"M0 0h24v24H0V0z\" fill=\"none\"/>\n",
              "    <path d=\"M18.56 5.44l.94 2.06.94-2.06 2.06-.94-2.06-.94-.94-2.06-.94 2.06-2.06.94zm-11 1L8.5 8.5l.94-2.06 2.06-.94-2.06-.94L8.5 2.5l-.94 2.06-2.06.94zm10 10l.94 2.06.94-2.06 2.06-.94-2.06-.94-.94-2.06-.94 2.06-2.06.94z\"/><path d=\"M17.41 7.96l-1.37-1.37c-.4-.4-.92-.59-1.43-.59-.52 0-1.04.2-1.43.59L10.3 9.45l-7.72 7.72c-.78.78-.78 2.05 0 2.83L4 21.41c.39.39.9.59 1.41.59.51 0 1.02-.2 1.41-.59l7.78-7.78 2.81-2.81c.8-.78.8-2.07 0-2.86zM5.41 20L4 18.59l7.72-7.72 1.47 1.35L5.41 20z\"/>\n",
              "  </svg>\n",
              "      </button>\n",
              "      \n",
              "  <style>\n",
              "    .colab-df-container {\n",
              "      display:flex;\n",
              "      flex-wrap:wrap;\n",
              "      gap: 12px;\n",
              "    }\n",
              "\n",
              "    .colab-df-convert {\n",
              "      background-color: #E8F0FE;\n",
              "      border: none;\n",
              "      border-radius: 50%;\n",
              "      cursor: pointer;\n",
              "      display: none;\n",
              "      fill: #1967D2;\n",
              "      height: 32px;\n",
              "      padding: 0 0 0 0;\n",
              "      width: 32px;\n",
              "    }\n",
              "\n",
              "    .colab-df-convert:hover {\n",
              "      background-color: #E2EBFA;\n",
              "      box-shadow: 0px 1px 2px rgba(60, 64, 67, 0.3), 0px 1px 3px 1px rgba(60, 64, 67, 0.15);\n",
              "      fill: #174EA6;\n",
              "    }\n",
              "\n",
              "    [theme=dark] .colab-df-convert {\n",
              "      background-color: #3B4455;\n",
              "      fill: #D2E3FC;\n",
              "    }\n",
              "\n",
              "    [theme=dark] .colab-df-convert:hover {\n",
              "      background-color: #434B5C;\n",
              "      box-shadow: 0px 1px 3px 1px rgba(0, 0, 0, 0.15);\n",
              "      filter: drop-shadow(0px 1px 2px rgba(0, 0, 0, 0.3));\n",
              "      fill: #FFFFFF;\n",
              "    }\n",
              "  </style>\n",
              "\n",
              "      <script>\n",
              "        const buttonEl =\n",
              "          document.querySelector('#df-fb9dc06e-b920-4b54-a1a8-b92afb5076b4 button.colab-df-convert');\n",
              "        buttonEl.style.display =\n",
              "          google.colab.kernel.accessAllowed ? 'block' : 'none';\n",
              "\n",
              "        async function convertToInteractive(key) {\n",
              "          const element = document.querySelector('#df-fb9dc06e-b920-4b54-a1a8-b92afb5076b4');\n",
              "          const dataTable =\n",
              "            await google.colab.kernel.invokeFunction('convertToInteractive',\n",
              "                                                     [key], {});\n",
              "          if (!dataTable) return;\n",
              "\n",
              "          const docLinkHtml = 'Like what you see? Visit the ' +\n",
              "            '<a target=\"_blank\" href=https://colab.research.google.com/notebooks/data_table.ipynb>data table notebook</a>'\n",
              "            + ' to learn more about interactive tables.';\n",
              "          element.innerHTML = '';\n",
              "          dataTable['output_type'] = 'display_data';\n",
              "          await google.colab.output.renderOutput(dataTable, element);\n",
              "          const docLink = document.createElement('div');\n",
              "          docLink.innerHTML = docLinkHtml;\n",
              "          element.appendChild(docLink);\n",
              "        }\n",
              "      </script>\n",
              "    </div>\n",
              "  </div>\n",
              "  "
            ],
            "text/plain": [
              "                                                Text  Emotion\n",
              "0                            i didnt feel humiliated  sadness\n",
              "1  i can go from feeling so hopeless to so damned...  sadness\n",
              "2   im grabbing a minute to post i feel greedy wrong    anger\n",
              "3  i am ever feeling nostalgic about the fireplac...     love\n",
              "4                               i am feeling grouchy    anger"
            ]
          },
          "execution_count": 5,
          "metadata": {},
          "output_type": "execute_result"
        }
      ],
      "source": [
        "df.head()"
      ]
    },
    {
      "cell_type": "code",
      "execution_count": null,
      "metadata": {
        "colab": {
          "base_uri": "https://localhost:8080/"
        },
        "id": "9ZDJEzxBsigs",
        "outputId": "ba229291-bbdc-4b64-9768-21458deccc50"
      },
      "outputs": [
        {
          "data": {
            "text/plain": [
              "happy       7029\n",
              "sadness     6265\n",
              "anger       2993\n",
              "fear        2652\n",
              "love        1641\n",
              "surprise     879\n",
              "Name: Emotion, dtype: int64"
            ]
          },
          "execution_count": 6,
          "metadata": {},
          "output_type": "execute_result"
        }
      ],
      "source": [
        "df['Emotion'].value_counts()"
      ]
    },
    {
      "cell_type": "code",
      "execution_count": null,
      "metadata": {
        "colab": {
          "base_uri": "https://localhost:8080/"
        },
        "id": "FdCC6hUZsqM0",
        "outputId": "e2224ae6-c104-451c-a5f1-0986024af193"
      },
      "outputs": [
        {
          "data": {
            "text/plain": [
              "Text       0\n",
              "Emotion    0\n",
              "dtype: int64"
            ]
          },
          "execution_count": 7,
          "metadata": {},
          "output_type": "execute_result"
        }
      ],
      "source": [
        "df.isnull().sum()"
      ]
    },
    {
      "cell_type": "code",
      "execution_count": null,
      "metadata": {
        "id": "3rBZPHCZsrZU"
      },
      "outputs": [],
      "source": [
        "category = pd.get_dummies(df.Emotion)\n",
        "df1 = pd.concat([df, category], axis=1)\n",
        "df1 = df1.drop(columns='Emotion')"
      ]
    },
    {
      "cell_type": "markdown",
      "metadata": {
        "id": "G5KN_wlDsy0N"
      },
      "source": [
        "Data Preprocessing"
      ]
    },
    {
      "cell_type": "code",
      "execution_count": null,
      "metadata": {
        "id": "Rsm78uLns1xN"
      },
      "outputs": [],
      "source": [
        "X = df1['Text'].values\n",
        "y = df1[['happy', 'sadness', 'anger', 'fear', 'love', 'surprise']].values"
      ]
    },
    {
      "cell_type": "code",
      "execution_count": null,
      "metadata": {
        "id": "XOhbY_s7tBs1"
      },
      "outputs": [],
      "source": [
        "from sklearn.model_selection import train_test_split\n",
        "X_train, X_test, y_train, y_test = train_test_split(X, y, test_size=0.2, random_state=1)"
      ]
    },
    {
      "cell_type": "code",
      "execution_count": null,
      "metadata": {
        "id": "fcxpwP9NtNjF"
      },
      "outputs": [],
      "source": [
        "tokenizer = Tokenizer(num_words = 5000, oov_token='<x>', filters='!\"#$%&()*+,-./:;<=>?@[\\\\]^_`{|}~\\t\\n', lower=True)\n",
        "tokenizer.fit_on_texts(X_train)\n",
        "tokenizer.fit_on_texts(X_test)\n",
        "\n",
        "Seq_train = tokenizer.texts_to_sequences(X_train)\n",
        "Seq_test = tokenizer.texts_to_sequences(X_test)\n",
        "\n",
        "Pad_train = pad_sequences(Seq_train)\n",
        "Pad_test = pad_sequences(Seq_test)"
      ]
    },
    {
      "cell_type": "code",
      "execution_count": null,
      "metadata": {
        "colab": {
          "base_uri": "https://localhost:8080/"
        },
        "id": "tnFeSl7jdNY3",
        "outputId": "87f09b82-945f-4110-e406-a6e1c27cf164"
      },
      "outputs": [
        {
          "name": "stdout",
          "output_type": "stream",
          "text": [
            "Vocabulary size = 19260\n"
          ]
        }
      ],
      "source": [
        "vocabSize = len(tokenizer.index_word) + 1\n",
        "print(f\"Vocabulary size = {vocabSize}\")\n"
      ]
    },
    {
      "cell_type": "markdown",
      "metadata": {
        "id": "B93i52hRu282"
      },
      "source": [
        "**RNN**"
      ]
    },
    {
      "cell_type": "markdown",
      "metadata": {
        "id": "Rc6_nHbsu5je"
      },
      "source": [
        "Model Building"
      ]
    },
    {
      "cell_type": "code",
      "execution_count": null,
      "metadata": {
        "id": "nhHglhLFu7DG"
      },
      "outputs": [],
      "source": [
        "model = Sequential()\n",
        "model.add(Embedding(input_dim = 5000, output_dim = 128)),\n",
        "model.add(SimpleRNN(128,activation='relu'))\n",
        "model.add (Dropout(0.3))\n",
        "model.add(Dense(64,activation='relu'))\n",
        "model.add (Dropout(0.3))\n",
        "model.add(Dense(32,activation='relu'))\n",
        "model.add (Dropout(0.3))\n",
        "model.add(Dense(16,activation='relu'))\n",
        "model.add (Dropout(0.3))\n",
        "model.add(Dense(6))\n",
        "model.add(Activation('softmax'))"
      ]
    },
    {
      "cell_type": "code",
      "execution_count": null,
      "metadata": {
        "colab": {
          "base_uri": "https://localhost:8080/"
        },
        "id": "ADL7YnGAvDiH",
        "outputId": "62f335b9-3556-40cf-df29-5a93fbb74502"
      },
      "outputs": [
        {
          "name": "stdout",
          "output_type": "stream",
          "text": [
            "Model: \"sequential_2\"\n",
            "_________________________________________________________________\n",
            " Layer (type)                Output Shape              Param #   \n",
            "=================================================================\n",
            " embedding_2 (Embedding)     (None, None, 128)         640000    \n",
            "                                                                 \n",
            " simple_rnn (SimpleRNN)      (None, 128)               32896     \n",
            "                                                                 \n",
            " dropout_8 (Dropout)         (None, 128)               0         \n",
            "                                                                 \n",
            " dense_5 (Dense)             (None, 64)                8256      \n",
            "                                                                 \n",
            " dropout_9 (Dropout)         (None, 64)                0         \n",
            "                                                                 \n",
            " dense_6 (Dense)             (None, 32)                2080      \n",
            "                                                                 \n",
            " dropout_10 (Dropout)        (None, 32)                0         \n",
            "                                                                 \n",
            " dense_7 (Dense)             (None, 16)                528       \n",
            "                                                                 \n",
            " dropout_11 (Dropout)        (None, 16)                0         \n",
            "                                                                 \n",
            " dense_8 (Dense)             (None, 6)                 102       \n",
            "                                                                 \n",
            " activation_1 (Activation)   (None, 6)                 0         \n",
            "                                                                 \n",
            "=================================================================\n",
            "Total params: 683,862\n",
            "Trainable params: 683,862\n",
            "Non-trainable params: 0\n",
            "_________________________________________________________________\n"
          ]
        }
      ],
      "source": [
        "model.summary()"
      ]
    },
    {
      "cell_type": "markdown",
      "metadata": {
        "id": "qoJLx6bCvFKu"
      },
      "source": [
        "Model Training"
      ]
    },
    {
      "cell_type": "code",
      "execution_count": null,
      "metadata": {
        "id": "iMrPL9lpvHkX"
      },
      "outputs": [],
      "source": [
        "model.compile(\n",
        "    optimizer='adam',\n",
        "    loss='categorical_crossentropy',\n",
        "    metrics=['accuracy']\n",
        ")"
      ]
    },
    {
      "cell_type": "code",
      "execution_count": null,
      "metadata": {
        "colab": {
          "base_uri": "https://localhost:8080/"
        },
        "id": "zhVXQRwVvJt2",
        "outputId": "3499296d-021d-4df9-f7ea-748a7699fa05"
      },
      "outputs": [
        {
          "name": "stdout",
          "output_type": "stream",
          "text": [
            "Epoch 1/60\n",
            "68/68 [==============================] - 15s 185ms/step - loss: 1.6527 - accuracy: 0.3053 - val_loss: 1.5304 - val_accuracy: 0.3220\n",
            "Epoch 2/60\n",
            "68/68 [==============================] - 12s 171ms/step - loss: 1.4277 - accuracy: 0.3431 - val_loss: 1.2727 - val_accuracy: 0.3963\n",
            "Epoch 3/60\n",
            "68/68 [==============================] - 12s 171ms/step - loss: 1.2167 - accuracy: 0.4531 - val_loss: 1.0832 - val_accuracy: 0.5326\n",
            "Epoch 4/60\n",
            "68/68 [==============================] - 11s 158ms/step - loss: 1.0141 - accuracy: 0.5762 - val_loss: 0.9186 - val_accuracy: 0.6309\n",
            "Epoch 5/60\n",
            "68/68 [==============================] - 11s 160ms/step - loss: 0.7793 - accuracy: 0.6773 - val_loss: 0.8401 - val_accuracy: 0.6666\n",
            "Epoch 6/60\n",
            "68/68 [==============================] - 12s 181ms/step - loss: 0.6638 - accuracy: 0.7191 - val_loss: 0.7201 - val_accuracy: 0.7430\n",
            "Epoch 7/60\n",
            "68/68 [==============================] - 12s 180ms/step - loss: 0.6138 - accuracy: 0.7447 - val_loss: 0.6830 - val_accuracy: 0.7477\n",
            "Epoch 8/60\n",
            "68/68 [==============================] - 12s 181ms/step - loss: 0.5422 - accuracy: 0.7780 - val_loss: 0.6849 - val_accuracy: 0.7467\n",
            "Epoch 9/60\n",
            "68/68 [==============================] - 12s 181ms/step - loss: 0.4995 - accuracy: 0.7989 - val_loss: 0.6768 - val_accuracy: 0.7766\n",
            "Epoch 10/60\n",
            "68/68 [==============================] - 12s 180ms/step - loss: 0.5169 - accuracy: 0.8085 - val_loss: 0.6542 - val_accuracy: 0.7703\n",
            "Epoch 11/60\n",
            "68/68 [==============================] - 12s 171ms/step - loss: 0.4741 - accuracy: 0.8218 - val_loss: 0.7907 - val_accuracy: 0.7782\n",
            "Epoch 12/60\n",
            "68/68 [==============================] - 12s 171ms/step - loss: 0.4642 - accuracy: 0.8339 - val_loss: 0.7480 - val_accuracy: 0.8155\n",
            "Epoch 13/60\n",
            "68/68 [==============================] - 12s 170ms/step - loss: 0.4319 - accuracy: 0.8480 - val_loss: 0.6891 - val_accuracy: 0.8092\n",
            "Epoch 14/60\n",
            "68/68 [==============================] - 10s 153ms/step - loss: 0.3925 - accuracy: 0.8667 - val_loss: 0.7893 - val_accuracy: 0.8162\n",
            "Epoch 15/60\n",
            "68/68 [==============================] - 11s 168ms/step - loss: 0.4098 - accuracy: 0.8650 - val_loss: 0.7003 - val_accuracy: 0.8343\n",
            "Epoch 16/60\n",
            "68/68 [==============================] - 12s 181ms/step - loss: 0.3670 - accuracy: 0.8802 - val_loss: 0.9879 - val_accuracy: 0.8418\n",
            "Epoch 17/60\n",
            "68/68 [==============================] - 12s 180ms/step - loss: 0.3832 - accuracy: 0.8711 - val_loss: 0.6931 - val_accuracy: 0.8523\n",
            "Epoch 18/60\n",
            "68/68 [==============================] - 12s 180ms/step - loss: 0.3109 - accuracy: 0.8981 - val_loss: 0.8239 - val_accuracy: 0.8502\n",
            "Epoch 19/60\n",
            "68/68 [==============================] - 12s 182ms/step - loss: 0.3204 - accuracy: 0.8954 - val_loss: 0.9672 - val_accuracy: 0.8411\n",
            "Epoch 20/60\n",
            "68/68 [==============================] - 12s 181ms/step - loss: 0.3316 - accuracy: 0.8899 - val_loss: 0.7849 - val_accuracy: 0.8504\n",
            "Epoch 21/60\n",
            "68/68 [==============================] - 12s 182ms/step - loss: 0.3547 - accuracy: 0.8859 - val_loss: 0.7230 - val_accuracy: 0.8509\n",
            "Epoch 22/60\n",
            "68/68 [==============================] - 12s 171ms/step - loss: 0.2745 - accuracy: 0.9078 - val_loss: 0.7491 - val_accuracy: 0.8553\n",
            "Epoch 23/60\n",
            "68/68 [==============================] - 12s 180ms/step - loss: 0.2779 - accuracy: 0.9097 - val_loss: 0.8323 - val_accuracy: 0.8639\n",
            "Epoch 24/60\n",
            "68/68 [==============================] - 12s 171ms/step - loss: 0.2815 - accuracy: 0.9090 - val_loss: 1.0499 - val_accuracy: 0.8418\n",
            "Epoch 25/60\n",
            "68/68 [==============================] - 11s 161ms/step - loss: 0.2663 - accuracy: 0.9107 - val_loss: 0.7950 - val_accuracy: 0.8637\n",
            "Epoch 26/60\n",
            "68/68 [==============================] - 12s 172ms/step - loss: 0.2213 - accuracy: 0.9279 - val_loss: 0.9599 - val_accuracy: 0.8642\n",
            "Epoch 27/60\n",
            "68/68 [==============================] - 12s 181ms/step - loss: 0.2249 - accuracy: 0.9271 - val_loss: 0.9444 - val_accuracy: 0.8728\n",
            "Epoch 28/60\n",
            "68/68 [==============================] - 12s 181ms/step - loss: 0.2049 - accuracy: 0.9373 - val_loss: 1.1108 - val_accuracy: 0.8774\n",
            "Epoch 29/60\n",
            "68/68 [==============================] - 12s 183ms/step - loss: 0.2018 - accuracy: 0.9388 - val_loss: 1.3928 - val_accuracy: 0.8758\n",
            "Epoch 30/60\n",
            "68/68 [==============================] - 12s 181ms/step - loss: 0.1832 - accuracy: 0.9464 - val_loss: 0.9167 - val_accuracy: 0.8767\n",
            "Epoch 31/60\n",
            "68/68 [==============================] - 12s 172ms/step - loss: 0.1905 - accuracy: 0.9430 - val_loss: 1.2581 - val_accuracy: 0.8733\n",
            "Epoch 32/60\n",
            "68/68 [==============================] - 12s 182ms/step - loss: 0.2003 - accuracy: 0.9407 - val_loss: 0.8960 - val_accuracy: 0.8714\n",
            "Epoch 33/60\n",
            "68/68 [==============================] - 12s 181ms/step - loss: 0.3942 - accuracy: 0.8902 - val_loss: 0.8109 - val_accuracy: 0.8276\n",
            "Epoch 34/60\n",
            "68/68 [==============================] - 12s 182ms/step - loss: 0.2391 - accuracy: 0.9313 - val_loss: 0.7556 - val_accuracy: 0.8693\n",
            "Epoch 35/60\n",
            "68/68 [==============================] - 12s 181ms/step - loss: 0.2010 - accuracy: 0.9422 - val_loss: 0.8678 - val_accuracy: 0.8693\n",
            "Epoch 36/60\n",
            "68/68 [==============================] - 12s 174ms/step - loss: 0.1866 - accuracy: 0.9474 - val_loss: 0.7859 - val_accuracy: 0.8791\n",
            "Epoch 37/60\n",
            "68/68 [==============================] - 11s 162ms/step - loss: 0.1438 - accuracy: 0.9584 - val_loss: 0.8711 - val_accuracy: 0.8833\n",
            "Epoch 38/60\n",
            "68/68 [==============================] - 11s 161ms/step - loss: 0.1350 - accuracy: 0.9613 - val_loss: 1.2818 - val_accuracy: 0.8814\n",
            "Epoch 39/60\n",
            "68/68 [==============================] - 12s 182ms/step - loss: 0.1247 - accuracy: 0.9636 - val_loss: 1.4400 - val_accuracy: 0.8835\n",
            "Epoch 40/60\n",
            "68/68 [==============================] - 12s 182ms/step - loss: 0.1164 - accuracy: 0.9661 - val_loss: 1.4507 - val_accuracy: 0.8837\n",
            "Epoch 41/60\n",
            "68/68 [==============================] - 12s 182ms/step - loss: 0.1317 - accuracy: 0.9636 - val_loss: 2.1706 - val_accuracy: 0.8814\n",
            "Epoch 42/60\n",
            "68/68 [==============================] - 12s 181ms/step - loss: 0.1283 - accuracy: 0.9622 - val_loss: 1.0040 - val_accuracy: 0.8760\n",
            "Epoch 43/60\n",
            "68/68 [==============================] - 12s 181ms/step - loss: 0.1430 - accuracy: 0.9610 - val_loss: 1.2314 - val_accuracy: 0.8765\n",
            "Epoch 44/60\n",
            "68/68 [==============================] - 12s 183ms/step - loss: 0.1356 - accuracy: 0.9620 - val_loss: 1.4137 - val_accuracy: 0.8777\n",
            "Epoch 45/60\n",
            "68/68 [==============================] - 12s 182ms/step - loss: 0.1156 - accuracy: 0.9668 - val_loss: 1.9783 - val_accuracy: 0.8807\n",
            "Epoch 46/60\n",
            "68/68 [==============================] - 12s 181ms/step - loss: 0.1361 - accuracy: 0.9613 - val_loss: 1.1853 - val_accuracy: 0.8756\n",
            "Epoch 47/60\n",
            "68/68 [==============================] - 12s 170ms/step - loss: 0.1829 - accuracy: 0.9559 - val_loss: 1.1864 - val_accuracy: 0.8749\n",
            "Epoch 48/60\n",
            "68/68 [==============================] - 11s 164ms/step - loss: 0.1253 - accuracy: 0.9645 - val_loss: 0.9128 - val_accuracy: 0.8788\n",
            "Epoch 49/60\n",
            "68/68 [==============================] - 11s 164ms/step - loss: 0.1150 - accuracy: 0.9662 - val_loss: 1.0029 - val_accuracy: 0.8809\n",
            "Epoch 50/60\n",
            "68/68 [==============================] - 12s 173ms/step - loss: 0.2650 - accuracy: 0.9357 - val_loss: 0.8078 - val_accuracy: 0.8728\n",
            "Epoch 51/60\n",
            "68/68 [==============================] - 12s 183ms/step - loss: 0.1795 - accuracy: 0.9496 - val_loss: 0.9577 - val_accuracy: 0.8357\n",
            "Epoch 52/60\n",
            "68/68 [==============================] - 12s 182ms/step - loss: 0.2187 - accuracy: 0.9318 - val_loss: 0.8397 - val_accuracy: 0.8663\n",
            "Epoch 53/60\n",
            "68/68 [==============================] - 12s 172ms/step - loss: 0.1599 - accuracy: 0.9504 - val_loss: 1.3374 - val_accuracy: 0.8642\n",
            "Epoch 54/60\n",
            "68/68 [==============================] - 12s 183ms/step - loss: 0.1457 - accuracy: 0.9544 - val_loss: 0.9224 - val_accuracy: 0.8667\n",
            "Epoch 55/60\n",
            "68/68 [==============================] - 12s 182ms/step - loss: 0.1409 - accuracy: 0.9563 - val_loss: 1.3048 - val_accuracy: 0.8658\n",
            "Epoch 56/60\n",
            "68/68 [==============================] - 12s 182ms/step - loss: 0.1351 - accuracy: 0.9627 - val_loss: 1.2962 - val_accuracy: 0.8751\n",
            "Epoch 57/60\n",
            "68/68 [==============================] - 12s 172ms/step - loss: 0.1219 - accuracy: 0.9652 - val_loss: 1.0928 - val_accuracy: 0.8707\n",
            "Epoch 58/60\n",
            "68/68 [==============================] - 12s 171ms/step - loss: 0.1462 - accuracy: 0.9611 - val_loss: 0.9708 - val_accuracy: 0.8798\n",
            "Epoch 59/60\n",
            "68/68 [==============================] - 12s 171ms/step - loss: 0.1217 - accuracy: 0.9637 - val_loss: 0.9244 - val_accuracy: 0.8772\n",
            "Epoch 60/60\n",
            "68/68 [==============================] - 11s 161ms/step - loss: 0.1108 - accuracy: 0.9699 - val_loss: 1.1575 - val_accuracy: 0.8700\n"
          ]
        }
      ],
      "source": [
        "history = model.fit(\n",
        "    Pad_train, y_train,\n",
        "    epochs = 60,\n",
        "    batch_size = 256,\n",
        "    validation_data = (Pad_test, y_test),\n",
        "    verbose = 1,\n",
        ")"
      ]
    },
    {
      "cell_type": "markdown",
      "metadata": {
        "id": "5_1pXJy8vN--"
      },
      "source": [
        "Graph Plot"
      ]
    },
    {
      "cell_type": "code",
      "execution_count": null,
      "metadata": {
        "colab": {
          "base_uri": "https://localhost:8080/",
          "height": 235
        },
        "id": "3c_33VtGvPAe",
        "outputId": "e3d484b9-e654-4237-eaf2-5ea8210900c6"
      },
      "outputs": [
        {
          "ename": "NameError",
          "evalue": "ignored",
          "output_type": "error",
          "traceback": [
            "\u001b[0;31m---------------------------------------------------------------------------\u001b[0m",
            "\u001b[0;31mNameError\u001b[0m                                 Traceback (most recent call last)",
            "\u001b[0;32m<ipython-input-1-5cf1bbece301>\u001b[0m in \u001b[0;36m<cell line: 1>\u001b[0;34m()\u001b[0m\n\u001b[0;32m----> 1\u001b[0;31m \u001b[0mplt\u001b[0m\u001b[0;34m.\u001b[0m\u001b[0mfigure\u001b[0m\u001b[0;34m(\u001b[0m\u001b[0mfigsize\u001b[0m\u001b[0;34m=\u001b[0m\u001b[0;34m(\u001b[0m\u001b[0;36m6\u001b[0m\u001b[0;34m,\u001b[0m\u001b[0;36m4\u001b[0m\u001b[0;34m)\u001b[0m\u001b[0;34m)\u001b[0m\u001b[0;34m\u001b[0m\u001b[0;34m\u001b[0m\u001b[0m\n\u001b[0m\u001b[1;32m      2\u001b[0m \u001b[0mplt\u001b[0m\u001b[0;34m.\u001b[0m\u001b[0mplot\u001b[0m\u001b[0;34m(\u001b[0m\u001b[0mhistory\u001b[0m\u001b[0;34m.\u001b[0m\u001b[0mhistory\u001b[0m\u001b[0;34m[\u001b[0m\u001b[0;34m'accuracy'\u001b[0m\u001b[0;34m]\u001b[0m\u001b[0;34m)\u001b[0m\u001b[0;34m\u001b[0m\u001b[0;34m\u001b[0m\u001b[0m\n\u001b[1;32m      3\u001b[0m \u001b[0mplt\u001b[0m\u001b[0;34m.\u001b[0m\u001b[0mplot\u001b[0m\u001b[0;34m(\u001b[0m\u001b[0mhistory\u001b[0m\u001b[0;34m.\u001b[0m\u001b[0mhistory\u001b[0m\u001b[0;34m[\u001b[0m\u001b[0;34m'val_accuracy'\u001b[0m\u001b[0;34m]\u001b[0m\u001b[0;34m)\u001b[0m\u001b[0;34m\u001b[0m\u001b[0;34m\u001b[0m\u001b[0m\n\u001b[1;32m      4\u001b[0m \u001b[0mplt\u001b[0m\u001b[0;34m.\u001b[0m\u001b[0mtitle\u001b[0m\u001b[0;34m(\u001b[0m\u001b[0;34m'Accuracy'\u001b[0m\u001b[0;34m)\u001b[0m\u001b[0;34m\u001b[0m\u001b[0;34m\u001b[0m\u001b[0m\n\u001b[1;32m      5\u001b[0m \u001b[0mplt\u001b[0m\u001b[0;34m.\u001b[0m\u001b[0mylabel\u001b[0m\u001b[0;34m(\u001b[0m\u001b[0;34m'accuracy'\u001b[0m\u001b[0;34m)\u001b[0m\u001b[0;34m\u001b[0m\u001b[0;34m\u001b[0m\u001b[0m\n",
            "\u001b[0;31mNameError\u001b[0m: name 'plt' is not defined"
          ]
        }
      ],
      "source": [
        "plt.figure(figsize=(6,4))\n",
        "plt.plot(history.history['accuracy'])\n",
        "plt.plot(history.history['val_accuracy'])\n",
        "plt.title('Accuracy')\n",
        "plt.ylabel('accuracy')\n",
        "plt.xlabel('epoch')\n",
        "plt.legend(['train', 'Validation'], loc='upper left')\n",
        "plt.show()\n",
        "\n",
        "plt.figure(figsize=(6,4))\n",
        "plt.plot(history.history['loss'])\n",
        "plt.plot(history.history['val_loss'])\n",
        "plt.title('Loss')\n",
        "plt.ylabel('Loss')\n",
        "plt.xlabel('epoch')\n",
        "plt.legend(['train', 'Validation'], loc='upper left')\n",
        "plt.show()"
      ]
    }
  ],
  "metadata": {
    "colab": {
      "provenance": []
    },
    "kernelspec": {
      "display_name": "Python 3",
      "name": "python3"
    },
    "language_info": {
      "name": "python"
    }
  },
  "nbformat": 4,
  "nbformat_minor": 0
}
