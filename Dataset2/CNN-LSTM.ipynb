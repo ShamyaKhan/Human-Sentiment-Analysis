{
  "cells": [
    {
      "cell_type": "code",
      "execution_count": null,
      "metadata": {
        "id": "7y9IFgslqMtW"
      },
      "outputs": [],
      "source": [
        "import numpy as np\n",
        "import pandas as pd\n",
        "import tensorflow as tf\n",
        "from tensorflow.keras.preprocessing.text import Tokenizer\n",
        "from tensorflow.keras.preprocessing.sequence import pad_sequences\n",
        "from tensorflow.keras.preprocessing.text import one_hot\n",
        "import matplotlib.pyplot as plt\n",
        "from tensorflow.keras import Sequential\n",
        "from tensorflow.keras.layers import Embedding, Dense, Dropout, BatchNormalization, Flatten, LSTM,Conv1D,MaxPooling1D\n",
        "from tensorflow.keras.callbacks import Callback, ReduceLROnPlateau\n",
        "from tensorflow.keras.optimizers import Adam\n",
        "from tensorflow.keras.layers import Dense, LSTM, Embedding, Dropout, Activation, Flatten, Input, concatenate, Conv1D, GlobalMaxPooling1D,SimpleRNN\n"
      ]
    },
    {
      "cell_type": "code",
      "execution_count": null,
      "metadata": {
        "id": "dZEu5jHuray1"
      },
      "outputs": [],
      "source": [
        "!pip install -U -q PyDrive\n",
        "from pydrive.auth import GoogleAuth\n",
        "from pydrive.drive import GoogleDrive\n",
        "from google.colab import auth\n",
        "from oauth2client.client import GoogleCredentials\n",
        "auth.authenticate_user()\n",
        "gauth = GoogleAuth()\n",
        "gauth.credentials = GoogleCredentials.get_application_default()\n",
        "drive = GoogleDrive(gauth)"
      ]
    },
    {
      "cell_type": "code",
      "execution_count": null,
      "metadata": {
        "id": "p9OLC0cxrscd"
      },
      "outputs": [],
      "source": [
        "link=\"https://drive.google.com/file/d/13DL3H3ShHMOuQo28TaxMsIiY59M8xMI8/view?usp=share_link\"\n",
        "id = link.split(\"/\")[-2]\n",
        "downloaded = drive.CreateFile({'id':id})\n",
        "downloaded.GetContentFile('Emotion_final.csv')\n",
        "df = pd.read_csv('Emotion_final.csv')"
      ]
    },
    {
      "cell_type": "code",
      "execution_count": null,
      "metadata": {
        "colab": {
          "base_uri": "https://localhost:8080/",
          "height": 206
        },
        "id": "DEhYr9YGsfHV",
        "outputId": "db2787ab-4199-47dc-a7ff-c3e84218650b"
      },
      "outputs": [
        {
          "data": {
            "text/html": [
              "\n",
              "  <div id=\"df-fb9dc06e-b920-4b54-a1a8-b92afb5076b4\">\n",
              "    <div class=\"colab-df-container\">\n",
              "      <div>\n",
              "<style scoped>\n",
              "    .dataframe tbody tr th:only-of-type {\n",
              "        vertical-align: middle;\n",
              "    }\n",
              "\n",
              "    .dataframe tbody tr th {\n",
              "        vertical-align: top;\n",
              "    }\n",
              "\n",
              "    .dataframe thead th {\n",
              "        text-align: right;\n",
              "    }\n",
              "</style>\n",
              "<table border=\"1\" class=\"dataframe\">\n",
              "  <thead>\n",
              "    <tr style=\"text-align: right;\">\n",
              "      <th></th>\n",
              "      <th>Text</th>\n",
              "      <th>Emotion</th>\n",
              "    </tr>\n",
              "  </thead>\n",
              "  <tbody>\n",
              "    <tr>\n",
              "      <th>0</th>\n",
              "      <td>i didnt feel humiliated</td>\n",
              "      <td>sadness</td>\n",
              "    </tr>\n",
              "    <tr>\n",
              "      <th>1</th>\n",
              "      <td>i can go from feeling so hopeless to so damned...</td>\n",
              "      <td>sadness</td>\n",
              "    </tr>\n",
              "    <tr>\n",
              "      <th>2</th>\n",
              "      <td>im grabbing a minute to post i feel greedy wrong</td>\n",
              "      <td>anger</td>\n",
              "    </tr>\n",
              "    <tr>\n",
              "      <th>3</th>\n",
              "      <td>i am ever feeling nostalgic about the fireplac...</td>\n",
              "      <td>love</td>\n",
              "    </tr>\n",
              "    <tr>\n",
              "      <th>4</th>\n",
              "      <td>i am feeling grouchy</td>\n",
              "      <td>anger</td>\n",
              "    </tr>\n",
              "  </tbody>\n",
              "</table>\n",
              "</div>\n",
              "      <button class=\"colab-df-convert\" onclick=\"convertToInteractive('df-fb9dc06e-b920-4b54-a1a8-b92afb5076b4')\"\n",
              "              title=\"Convert this dataframe to an interactive table.\"\n",
              "              style=\"display:none;\">\n",
              "        \n",
              "  <svg xmlns=\"http://www.w3.org/2000/svg\" height=\"24px\"viewBox=\"0 0 24 24\"\n",
              "       width=\"24px\">\n",
              "    <path d=\"M0 0h24v24H0V0z\" fill=\"none\"/>\n",
              "    <path d=\"M18.56 5.44l.94 2.06.94-2.06 2.06-.94-2.06-.94-.94-2.06-.94 2.06-2.06.94zm-11 1L8.5 8.5l.94-2.06 2.06-.94-2.06-.94L8.5 2.5l-.94 2.06-2.06.94zm10 10l.94 2.06.94-2.06 2.06-.94-2.06-.94-.94-2.06-.94 2.06-2.06.94z\"/><path d=\"M17.41 7.96l-1.37-1.37c-.4-.4-.92-.59-1.43-.59-.52 0-1.04.2-1.43.59L10.3 9.45l-7.72 7.72c-.78.78-.78 2.05 0 2.83L4 21.41c.39.39.9.59 1.41.59.51 0 1.02-.2 1.41-.59l7.78-7.78 2.81-2.81c.8-.78.8-2.07 0-2.86zM5.41 20L4 18.59l7.72-7.72 1.47 1.35L5.41 20z\"/>\n",
              "  </svg>\n",
              "      </button>\n",
              "      \n",
              "  <style>\n",
              "    .colab-df-container {\n",
              "      display:flex;\n",
              "      flex-wrap:wrap;\n",
              "      gap: 12px;\n",
              "    }\n",
              "\n",
              "    .colab-df-convert {\n",
              "      background-color: #E8F0FE;\n",
              "      border: none;\n",
              "      border-radius: 50%;\n",
              "      cursor: pointer;\n",
              "      display: none;\n",
              "      fill: #1967D2;\n",
              "      height: 32px;\n",
              "      padding: 0 0 0 0;\n",
              "      width: 32px;\n",
              "    }\n",
              "\n",
              "    .colab-df-convert:hover {\n",
              "      background-color: #E2EBFA;\n",
              "      box-shadow: 0px 1px 2px rgba(60, 64, 67, 0.3), 0px 1px 3px 1px rgba(60, 64, 67, 0.15);\n",
              "      fill: #174EA6;\n",
              "    }\n",
              "\n",
              "    [theme=dark] .colab-df-convert {\n",
              "      background-color: #3B4455;\n",
              "      fill: #D2E3FC;\n",
              "    }\n",
              "\n",
              "    [theme=dark] .colab-df-convert:hover {\n",
              "      background-color: #434B5C;\n",
              "      box-shadow: 0px 1px 3px 1px rgba(0, 0, 0, 0.15);\n",
              "      filter: drop-shadow(0px 1px 2px rgba(0, 0, 0, 0.3));\n",
              "      fill: #FFFFFF;\n",
              "    }\n",
              "  </style>\n",
              "\n",
              "      <script>\n",
              "        const buttonEl =\n",
              "          document.querySelector('#df-fb9dc06e-b920-4b54-a1a8-b92afb5076b4 button.colab-df-convert');\n",
              "        buttonEl.style.display =\n",
              "          google.colab.kernel.accessAllowed ? 'block' : 'none';\n",
              "\n",
              "        async function convertToInteractive(key) {\n",
              "          const element = document.querySelector('#df-fb9dc06e-b920-4b54-a1a8-b92afb5076b4');\n",
              "          const dataTable =\n",
              "            await google.colab.kernel.invokeFunction('convertToInteractive',\n",
              "                                                     [key], {});\n",
              "          if (!dataTable) return;\n",
              "\n",
              "          const docLinkHtml = 'Like what you see? Visit the ' +\n",
              "            '<a target=\"_blank\" href=https://colab.research.google.com/notebooks/data_table.ipynb>data table notebook</a>'\n",
              "            + ' to learn more about interactive tables.';\n",
              "          element.innerHTML = '';\n",
              "          dataTable['output_type'] = 'display_data';\n",
              "          await google.colab.output.renderOutput(dataTable, element);\n",
              "          const docLink = document.createElement('div');\n",
              "          docLink.innerHTML = docLinkHtml;\n",
              "          element.appendChild(docLink);\n",
              "        }\n",
              "      </script>\n",
              "    </div>\n",
              "  </div>\n",
              "  "
            ],
            "text/plain": [
              "                                                Text  Emotion\n",
              "0                            i didnt feel humiliated  sadness\n",
              "1  i can go from feeling so hopeless to so damned...  sadness\n",
              "2   im grabbing a minute to post i feel greedy wrong    anger\n",
              "3  i am ever feeling nostalgic about the fireplac...     love\n",
              "4                               i am feeling grouchy    anger"
            ]
          },
          "execution_count": 5,
          "metadata": {},
          "output_type": "execute_result"
        }
      ],
      "source": [
        "df.head()"
      ]
    },
    {
      "cell_type": "code",
      "execution_count": null,
      "metadata": {
        "colab": {
          "base_uri": "https://localhost:8080/"
        },
        "id": "9ZDJEzxBsigs",
        "outputId": "ba229291-bbdc-4b64-9768-21458deccc50"
      },
      "outputs": [
        {
          "data": {
            "text/plain": [
              "happy       7029\n",
              "sadness     6265\n",
              "anger       2993\n",
              "fear        2652\n",
              "love        1641\n",
              "surprise     879\n",
              "Name: Emotion, dtype: int64"
            ]
          },
          "execution_count": 6,
          "metadata": {},
          "output_type": "execute_result"
        }
      ],
      "source": [
        "df['Emotion'].value_counts()"
      ]
    },
    {
      "cell_type": "code",
      "execution_count": null,
      "metadata": {
        "colab": {
          "base_uri": "https://localhost:8080/"
        },
        "id": "FdCC6hUZsqM0",
        "outputId": "e2224ae6-c104-451c-a5f1-0986024af193"
      },
      "outputs": [
        {
          "data": {
            "text/plain": [
              "Text       0\n",
              "Emotion    0\n",
              "dtype: int64"
            ]
          },
          "execution_count": 7,
          "metadata": {},
          "output_type": "execute_result"
        }
      ],
      "source": [
        "df.isnull().sum()"
      ]
    },
    {
      "cell_type": "code",
      "execution_count": null,
      "metadata": {
        "id": "3rBZPHCZsrZU"
      },
      "outputs": [],
      "source": [
        "category = pd.get_dummies(df.Emotion)\n",
        "df1 = pd.concat([df, category], axis=1)\n",
        "df1 = df1.drop(columns='Emotion')"
      ]
    },
    {
      "cell_type": "markdown",
      "metadata": {
        "id": "G5KN_wlDsy0N"
      },
      "source": [
        "Data Preprocessing"
      ]
    },
    {
      "cell_type": "code",
      "execution_count": null,
      "metadata": {
        "id": "Rsm78uLns1xN"
      },
      "outputs": [],
      "source": [
        "X = df1['Text'].values\n",
        "y = df1[['happy', 'sadness', 'anger', 'fear', 'love', 'surprise']].values"
      ]
    },
    {
      "cell_type": "code",
      "execution_count": null,
      "metadata": {
        "id": "XOhbY_s7tBs1"
      },
      "outputs": [],
      "source": [
        "from sklearn.model_selection import train_test_split\n",
        "X_train, X_test, y_train, y_test = train_test_split(X, y, test_size=0.2, random_state=1)"
      ]
    },
    {
      "cell_type": "code",
      "execution_count": null,
      "metadata": {
        "id": "fcxpwP9NtNjF"
      },
      "outputs": [],
      "source": [
        "tokenizer = Tokenizer(num_words = 5000, oov_token='<x>', filters='!\"#$%&()*+,-./:;<=>?@[\\\\]^_`{|}~\\t\\n', lower=True)\n",
        "tokenizer.fit_on_texts(X_train)\n",
        "tokenizer.fit_on_texts(X_test)\n",
        "\n",
        "Seq_train = tokenizer.texts_to_sequences(X_train)\n",
        "Seq_test = tokenizer.texts_to_sequences(X_test)\n",
        "\n",
        "Pad_train = pad_sequences(Seq_train)\n",
        "Pad_test = pad_sequences(Seq_test)"
      ]
    },
    {
      "cell_type": "code",
      "execution_count": null,
      "metadata": {
        "colab": {
          "base_uri": "https://localhost:8080/"
        },
        "id": "tnFeSl7jdNY3",
        "outputId": "87f09b82-945f-4110-e406-a6e1c27cf164"
      },
      "outputs": [
        {
          "name": "stdout",
          "output_type": "stream",
          "text": [
            "Vocabulary size = 19260\n"
          ]
        }
      ],
      "source": [
        "vocabSize = len(tokenizer.index_word) + 1\n",
        "print(f\"Vocabulary size = {vocabSize}\")\n"
      ]
    },
    {
      "cell_type": "markdown",
      "metadata": {
        "id": "_2l-jfmLuTle"
      },
      "source": [
        "**CNN-LSTM**"
      ]
    },
    {
      "cell_type": "markdown",
      "metadata": {
        "id": "W0L1bQ84tUQd"
      },
      "source": [
        "Model Building"
      ]
    },
    {
      "cell_type": "code",
      "execution_count": null,
      "metadata": {
        "id": "TKv9SbHntOTN"
      },
      "outputs": [],
      "source": [
        "model = Sequential()\n",
        "model.add(Embedding(input_dim = 5000, output_dim = 128)),\n",
        "model.add(Conv1D(256,5,padding='valid',activation='relu',strides=1))\n",
        "model.add(MaxPooling1D(pool_size=2))\n",
        "model.add (BatchNormalization()),\n",
        "model.add (Dropout(0.3)),\n",
        "model.add(Conv1D(128, 5,padding='valid',activation='relu',strides=1))\n",
        "model.add(MaxPooling1D(pool_size=2))\n",
        "model.add (BatchNormalization()),\n",
        "model.add (Dropout(0.3)),\n",
        "model.add(LSTM(128))\n",
        "model.add (Dropout(0.3)),\n",
        "model.add(Dense(32))\n",
        "model.add (Dropout(0.3)),\n",
        "model.add(Dense(6))\n",
        "model.add(Activation('softmax'))"
      ]
    },
    {
      "cell_type": "code",
      "execution_count": null,
      "metadata": {
        "colab": {
          "base_uri": "https://localhost:8080/"
        },
        "id": "mk5P3Vf-tZ59",
        "outputId": "f2294db6-af3b-4d7a-f9e2-883519cb26a5"
      },
      "outputs": [
        {
          "name": "stdout",
          "output_type": "stream",
          "text": [
            "Model: \"sequential\"\n",
            "_________________________________________________________________\n",
            " Layer (type)                Output Shape              Param #   \n",
            "=================================================================\n",
            " embedding (Embedding)       (None, None, 128)         640000    \n",
            "                                                                 \n",
            " conv1d (Conv1D)             (None, None, 256)         164096    \n",
            "                                                                 \n",
            " max_pooling1d (MaxPooling1D  (None, None, 256)        0         \n",
            " )                                                               \n",
            "                                                                 \n",
            " batch_normalization (BatchN  (None, None, 256)        1024      \n",
            " ormalization)                                                   \n",
            "                                                                 \n",
            " dropout (Dropout)           (None, None, 256)         0         \n",
            "                                                                 \n",
            " conv1d_1 (Conv1D)           (None, None, 128)         163968    \n",
            "                                                                 \n",
            " max_pooling1d_1 (MaxPooling  (None, None, 128)        0         \n",
            " 1D)                                                             \n",
            "                                                                 \n",
            " batch_normalization_1 (Batc  (None, None, 128)        512       \n",
            " hNormalization)                                                 \n",
            "                                                                 \n",
            " dropout_1 (Dropout)         (None, None, 128)         0         \n",
            "                                                                 \n",
            " lstm (LSTM)                 (None, 128)               131584    \n",
            "                                                                 \n",
            " dropout_2 (Dropout)         (None, 128)               0         \n",
            "                                                                 \n",
            " dense (Dense)               (None, 32)                4128      \n",
            "                                                                 \n",
            " dropout_3 (Dropout)         (None, 32)                0         \n",
            "                                                                 \n",
            " dense_1 (Dense)             (None, 6)                 198       \n",
            "                                                                 \n",
            " activation (Activation)     (None, 6)                 0         \n",
            "                                                                 \n",
            "=================================================================\n",
            "Total params: 1,105,510\n",
            "Trainable params: 1,104,742\n",
            "Non-trainable params: 768\n",
            "_________________________________________________________________\n"
          ]
        }
      ],
      "source": [
        "model.summary()"
      ]
    },
    {
      "cell_type": "markdown",
      "metadata": {
        "id": "0jlmDxypteSN"
      },
      "source": [
        "Model Training"
      ]
    },
    {
      "cell_type": "code",
      "execution_count": null,
      "metadata": {
        "id": "4UDoB24jtfm1"
      },
      "outputs": [],
      "source": [
        "model.compile(\n",
        "    optimizer='adam',\n",
        "    loss='categorical_crossentropy',\n",
        "    metrics=['accuracy']\n",
        ")"
      ]
    },
    {
      "cell_type": "code",
      "execution_count": null,
      "metadata": {
        "colab": {
          "base_uri": "https://localhost:8080/"
        },
        "id": "4QyP5wsMtjYN",
        "outputId": "4f1940ad-c5e4-4baa-be5a-c65fd5f165e1"
      },
      "outputs": [
        {
          "name": "stdout",
          "output_type": "stream",
          "text": [
            "Epoch 1/60\n",
            "68/68 [==============================] - 84s 1s/step - loss: 1.6496 - accuracy: 0.3080 - val_loss: 1.6186 - val_accuracy: 0.3029\n",
            "Epoch 2/60\n",
            "68/68 [==============================] - 61s 898ms/step - loss: 1.5787 - accuracy: 0.3519 - val_loss: 1.6414 - val_accuracy: 0.3029\n",
            "Epoch 3/60\n",
            "68/68 [==============================] - 66s 958ms/step - loss: 1.2811 - accuracy: 0.5110 - val_loss: 1.5109 - val_accuracy: 0.3239\n",
            "Epoch 4/60\n",
            "68/68 [==============================] - 62s 907ms/step - loss: 0.7477 - accuracy: 0.7328 - val_loss: 1.3597 - val_accuracy: 0.3889\n",
            "Epoch 5/60\n",
            "68/68 [==============================] - 62s 921ms/step - loss: 0.4857 - accuracy: 0.8288 - val_loss: 1.0962 - val_accuracy: 0.6377\n",
            "Epoch 6/60\n",
            "68/68 [==============================] - 63s 929ms/step - loss: 0.3812 - accuracy: 0.8624 - val_loss: 0.7493 - val_accuracy: 0.7169\n",
            "Epoch 7/60\n",
            "68/68 [==============================] - 65s 958ms/step - loss: 0.3050 - accuracy: 0.8894 - val_loss: 0.4932 - val_accuracy: 0.8339\n",
            "Epoch 8/60\n",
            "68/68 [==============================] - 64s 931ms/step - loss: 0.2605 - accuracy: 0.9085 - val_loss: 0.4346 - val_accuracy: 0.8593\n",
            "Epoch 9/60\n",
            "68/68 [==============================] - 64s 944ms/step - loss: 0.2273 - accuracy: 0.9193 - val_loss: 0.4394 - val_accuracy: 0.8728\n",
            "Epoch 10/60\n",
            "68/68 [==============================] - 63s 925ms/step - loss: 0.2250 - accuracy: 0.9190 - val_loss: 0.4811 - val_accuracy: 0.8760\n",
            "Epoch 11/60\n",
            "68/68 [==============================] - 71s 1s/step - loss: 0.2063 - accuracy: 0.9253 - val_loss: 0.6091 - val_accuracy: 0.8609\n",
            "Epoch 12/60\n",
            "68/68 [==============================] - 65s 957ms/step - loss: 0.2015 - accuracy: 0.9296 - val_loss: 0.5274 - val_accuracy: 0.8765\n",
            "Epoch 13/60\n",
            "68/68 [==============================] - 65s 957ms/step - loss: 0.1795 - accuracy: 0.9350 - val_loss: 0.5895 - val_accuracy: 0.8737\n",
            "Epoch 14/60\n",
            "68/68 [==============================] - 62s 919ms/step - loss: 0.1528 - accuracy: 0.9432 - val_loss: 0.6097 - val_accuracy: 0.8763\n",
            "Epoch 15/60\n",
            "68/68 [==============================] - 61s 893ms/step - loss: 0.1467 - accuracy: 0.9479 - val_loss: 0.6312 - val_accuracy: 0.8719\n",
            "Epoch 16/60\n",
            "68/68 [==============================] - 65s 951ms/step - loss: 0.1430 - accuracy: 0.9483 - val_loss: 0.7650 - val_accuracy: 0.8670\n",
            "Epoch 17/60\n",
            "68/68 [==============================] - 62s 912ms/step - loss: 0.1316 - accuracy: 0.9522 - val_loss: 0.6598 - val_accuracy: 0.8747\n",
            "Epoch 18/60\n",
            "68/68 [==============================] - 60s 890ms/step - loss: 0.1233 - accuracy: 0.9548 - val_loss: 0.6691 - val_accuracy: 0.8765\n",
            "Epoch 19/60\n",
            "68/68 [==============================] - 64s 950ms/step - loss: 0.1292 - accuracy: 0.9525 - val_loss: 0.7068 - val_accuracy: 0.8758\n",
            "Epoch 20/60\n",
            "68/68 [==============================] - 64s 948ms/step - loss: 0.1420 - accuracy: 0.9489 - val_loss: 0.6500 - val_accuracy: 0.8807\n",
            "Epoch 21/60\n",
            "68/68 [==============================] - 62s 911ms/step - loss: 0.1337 - accuracy: 0.9525 - val_loss: 0.6715 - val_accuracy: 0.8756\n",
            "Epoch 22/60\n",
            "68/68 [==============================] - 63s 932ms/step - loss: 0.1312 - accuracy: 0.9515 - val_loss: 0.6760 - val_accuracy: 0.8765\n",
            "Epoch 23/60\n",
            "68/68 [==============================] - 63s 929ms/step - loss: 0.1485 - accuracy: 0.9475 - val_loss: 0.6659 - val_accuracy: 0.8693\n",
            "Epoch 24/60\n",
            "68/68 [==============================] - 64s 948ms/step - loss: 0.1428 - accuracy: 0.9486 - val_loss: 0.6510 - val_accuracy: 0.8779\n",
            "Epoch 25/60\n",
            "68/68 [==============================] - 62s 910ms/step - loss: 0.1180 - accuracy: 0.9564 - val_loss: 0.6751 - val_accuracy: 0.8765\n",
            "Epoch 26/60\n",
            "68/68 [==============================] - 63s 928ms/step - loss: 0.1074 - accuracy: 0.9607 - val_loss: 0.6692 - val_accuracy: 0.8735\n",
            "Epoch 27/60\n",
            "68/68 [==============================] - 63s 926ms/step - loss: 0.1028 - accuracy: 0.9615 - val_loss: 0.6900 - val_accuracy: 0.8779\n",
            "Epoch 28/60\n",
            "68/68 [==============================] - 63s 927ms/step - loss: 0.0983 - accuracy: 0.9635 - val_loss: 0.7279 - val_accuracy: 0.8747\n",
            "Epoch 29/60\n",
            "68/68 [==============================] - 64s 944ms/step - loss: 0.0979 - accuracy: 0.9628 - val_loss: 0.7203 - val_accuracy: 0.8807\n",
            "Epoch 30/60\n",
            "68/68 [==============================] - 64s 943ms/step - loss: 0.0919 - accuracy: 0.9649 - val_loss: 0.7430 - val_accuracy: 0.8781\n",
            "Epoch 31/60\n",
            "68/68 [==============================] - 63s 934ms/step - loss: 0.0931 - accuracy: 0.9659 - val_loss: 0.7678 - val_accuracy: 0.8735\n",
            "Epoch 32/60\n",
            "68/68 [==============================] - 63s 936ms/step - loss: 0.0879 - accuracy: 0.9680 - val_loss: 0.7845 - val_accuracy: 0.8719\n",
            "Epoch 33/60\n",
            "68/68 [==============================] - 63s 931ms/step - loss: 0.0907 - accuracy: 0.9667 - val_loss: 0.7952 - val_accuracy: 0.8737\n",
            "Epoch 34/60\n",
            "68/68 [==============================] - 62s 908ms/step - loss: 0.1195 - accuracy: 0.9583 - val_loss: 0.7634 - val_accuracy: 0.8749\n",
            "Epoch 35/60\n",
            "68/68 [==============================] - 63s 935ms/step - loss: 0.1145 - accuracy: 0.9596 - val_loss: 0.7186 - val_accuracy: 0.8758\n",
            "Epoch 36/60\n",
            "68/68 [==============================] - 64s 942ms/step - loss: 0.0987 - accuracy: 0.9641 - val_loss: 0.7367 - val_accuracy: 0.8747\n",
            "Epoch 37/60\n",
            "68/68 [==============================] - 63s 931ms/step - loss: 0.0910 - accuracy: 0.9665 - val_loss: 0.7742 - val_accuracy: 0.8753\n",
            "Epoch 38/60\n",
            "68/68 [==============================] - 64s 938ms/step - loss: 0.1092 - accuracy: 0.9616 - val_loss: 0.7485 - val_accuracy: 0.8728\n",
            "Epoch 39/60\n",
            "68/68 [==============================] - 61s 901ms/step - loss: 0.0923 - accuracy: 0.9652 - val_loss: 0.8114 - val_accuracy: 0.8721\n",
            "Epoch 40/60\n",
            "68/68 [==============================] - 65s 956ms/step - loss: 0.0913 - accuracy: 0.9656 - val_loss: 0.7559 - val_accuracy: 0.8765\n",
            "Epoch 41/60\n",
            "68/68 [==============================] - 65s 963ms/step - loss: 0.0852 - accuracy: 0.9679 - val_loss: 0.7747 - val_accuracy: 0.8756\n",
            "Epoch 42/60\n",
            "68/68 [==============================] - 65s 962ms/step - loss: 0.0827 - accuracy: 0.9695 - val_loss: 0.7949 - val_accuracy: 0.8772\n",
            "Epoch 43/60\n",
            "68/68 [==============================] - 65s 955ms/step - loss: 0.0958 - accuracy: 0.9642 - val_loss: 0.8113 - val_accuracy: 0.8730\n",
            "Epoch 44/60\n",
            "68/68 [==============================] - 64s 938ms/step - loss: 0.0937 - accuracy: 0.9654 - val_loss: 0.7818 - val_accuracy: 0.8791\n",
            "Epoch 45/60\n",
            "68/68 [==============================] - 63s 936ms/step - loss: 0.0851 - accuracy: 0.9695 - val_loss: 0.7983 - val_accuracy: 0.8758\n",
            "Epoch 46/60\n",
            "68/68 [==============================] - 64s 937ms/step - loss: 0.0854 - accuracy: 0.9682 - val_loss: 0.8010 - val_accuracy: 0.8772\n",
            "Epoch 47/60\n",
            "68/68 [==============================] - 64s 939ms/step - loss: 0.0879 - accuracy: 0.9678 - val_loss: 0.8226 - val_accuracy: 0.8749\n",
            "Epoch 48/60\n",
            "68/68 [==============================] - 65s 952ms/step - loss: 0.0930 - accuracy: 0.9665 - val_loss: 0.7986 - val_accuracy: 0.8716\n",
            "Epoch 49/60\n",
            "68/68 [==============================] - 65s 954ms/step - loss: 0.0860 - accuracy: 0.9672 - val_loss: 0.8043 - val_accuracy: 0.8791\n",
            "Epoch 50/60\n",
            "68/68 [==============================] - 65s 952ms/step - loss: 0.0849 - accuracy: 0.9688 - val_loss: 0.7900 - val_accuracy: 0.8774\n",
            "Epoch 51/60\n",
            "68/68 [==============================] - 64s 945ms/step - loss: 0.0866 - accuracy: 0.9672 - val_loss: 0.7685 - val_accuracy: 0.8774\n",
            "Epoch 52/60\n",
            "68/68 [==============================] - 62s 908ms/step - loss: 0.0808 - accuracy: 0.9690 - val_loss: 0.8258 - val_accuracy: 0.8742\n",
            "Epoch 53/60\n",
            "68/68 [==============================] - 63s 920ms/step - loss: 0.0959 - accuracy: 0.9649 - val_loss: 0.8200 - val_accuracy: 0.8707\n",
            "Epoch 54/60\n",
            "68/68 [==============================] - 64s 943ms/step - loss: 0.0835 - accuracy: 0.9697 - val_loss: 0.8688 - val_accuracy: 0.8707\n",
            "Epoch 55/60\n",
            "68/68 [==============================] - 62s 915ms/step - loss: 0.1004 - accuracy: 0.9636 - val_loss: 0.7943 - val_accuracy: 0.8726\n",
            "Epoch 56/60\n",
            "68/68 [==============================] - 61s 899ms/step - loss: 0.1076 - accuracy: 0.9606 - val_loss: 0.7846 - val_accuracy: 0.8779\n",
            "Epoch 57/60\n",
            "68/68 [==============================] - 64s 940ms/step - loss: 0.0908 - accuracy: 0.9665 - val_loss: 0.8177 - val_accuracy: 0.8747\n",
            "Epoch 58/60\n",
            "68/68 [==============================] - 62s 918ms/step - loss: 0.0857 - accuracy: 0.9671 - val_loss: 0.8262 - val_accuracy: 0.8753\n",
            "Epoch 59/60\n",
            "68/68 [==============================] - 63s 933ms/step - loss: 0.0804 - accuracy: 0.9692 - val_loss: 0.8472 - val_accuracy: 0.8765\n",
            "Epoch 60/60\n",
            "68/68 [==============================] - 61s 905ms/step - loss: 0.0821 - accuracy: 0.9695 - val_loss: 0.8543 - val_accuracy: 0.8733\n"
          ]
        }
      ],
      "source": [
        "history = model.fit(\n",
        "    Pad_train, y_train,\n",
        "    epochs = 60,\n",
        "    batch_size = 256,\n",
        "    validation_data = (Pad_test, y_test),\n",
        "    verbose = 1,\n",
        ")"
      ]
    },
    {
      "cell_type": "markdown",
      "metadata": {
        "id": "5v2o4M4-tp3l"
      },
      "source": [
        "Graph Plot"
      ]
    },
    {
      "cell_type": "code",
      "execution_count": null,
      "metadata": {
        "colab": {
          "base_uri": "https://localhost:8080/",
          "height": 803
        },
        "id": "h8sLneS_trd9",
        "outputId": "94364c15-01cf-4237-d3d3-bc8124e1871c"
      },
      "outputs": [
        {
          "data": {
            "image/png": "[encoded data removed]",
            "text/plain": [
              "<Figure size 600x400 with 1 Axes>"
            ]
          },
          "metadata": {},
          "output_type": "display_data"
        },
        {
          "data": {
            "image/png": "[encoded data removed]",
            "text/plain": [
              "<Figure size 600x400 with 1 Axes>"
            ]
          },
          "metadata": {},
          "output_type": "display_data"
        }
      ],
      "source": [
        "plt.figure(figsize=(6,4))\n",
        "plt.plot(history.history['accuracy'])\n",
        "plt.plot(history.history['val_accuracy'])\n",
        "plt.title('Accuracy')\n",
        "plt.ylabel('accuracy')\n",
        "plt.xlabel('epoch')\n",
        "plt.legend(['train', 'Validation'], loc='upper left')\n",
        "plt.show()\n",
        "\n",
        "plt.figure(figsize=(6,4))\n",
        "plt.plot(history.history['loss'])\n",
        "plt.plot(history.history['val_loss'])\n",
        "plt.title('Loss')\n",
        "plt.ylabel('Loss')\n",
        "plt.xlabel('epoch')\n",
        "plt.legend(['train', 'Validation'], loc='upper left')\n",
        "plt.show()"
      ]
    }
  ],
  "metadata": {
    "colab": {
      "provenance": []
    },
    "kernelspec": {
      "display_name": "Python 3",
      "name": "python3"
    },
    "language_info": {
      "name": "python"
    }
  },
  "nbformat": 4,
  "nbformat_minor": 0
}
