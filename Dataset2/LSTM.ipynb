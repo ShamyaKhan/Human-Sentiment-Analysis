{
  "cells": [
    {
      "cell_type": "code",
      "execution_count": null,
      "metadata": {
        "id": "7y9IFgslqMtW"
      },
      "outputs": [],
      "source": [
        "import numpy as np\n",
        "import pandas as pd\n",
        "import tensorflow as tf\n",
        "from tensorflow.keras.preprocessing.text import Tokenizer\n",
        "from tensorflow.keras.preprocessing.sequence import pad_sequences\n",
        "from tensorflow.keras.preprocessing.text import one_hot\n",
        "import matplotlib.pyplot as plt\n",
        "from tensorflow.keras import Sequential\n",
        "from tensorflow.keras.layers import Embedding, Dense, Dropout, BatchNormalization, Flatten, LSTM,Conv1D,MaxPooling1D\n",
        "from tensorflow.keras.callbacks import Callback, ReduceLROnPlateau\n",
        "from tensorflow.keras.optimizers import Adam\n",
        "from tensorflow.keras.layers import Dense, LSTM, Embedding, Dropout, Activation, Flatten, Input, concatenate, Conv1D, GlobalMaxPooling1D,SimpleRNN\n"
      ]
    },
    {
      "cell_type": "code",
      "execution_count": null,
      "metadata": {
        "id": "dZEu5jHuray1"
      },
      "outputs": [],
      "source": [
        "!pip install -U -q PyDrive\n",
        "from pydrive.auth import GoogleAuth\n",
        "from pydrive.drive import GoogleDrive\n",
        "from google.colab import auth\n",
        "from oauth2client.client import GoogleCredentials\n",
        "auth.authenticate_user()\n",
        "gauth = GoogleAuth()\n",
        "gauth.credentials = GoogleCredentials.get_application_default()\n",
        "drive = GoogleDrive(gauth)"
      ]
    },
    {
      "cell_type": "code",
      "execution_count": null,
      "metadata": {
        "id": "p9OLC0cxrscd"
      },
      "outputs": [],
      "source": [
        "link=\"https://drive.google.com/file/d/13DL3H3ShHMOuQo28TaxMsIiY59M8xMI8/view?usp=share_link\"\n",
        "id = link.split(\"/\")[-2]\n",
        "downloaded = drive.CreateFile({'id':id})\n",
        "downloaded.GetContentFile('Emotion_final.csv')\n",
        "df = pd.read_csv('Emotion_final.csv')"
      ]
    },
    {
      "cell_type": "code",
      "execution_count": null,
      "metadata": {
        "colab": {
          "base_uri": "https://localhost:8080/",
          "height": 206
        },
        "id": "DEhYr9YGsfHV",
        "outputId": "db2787ab-4199-47dc-a7ff-c3e84218650b"
      },
      "outputs": [
        {
          "data": {
            "text/html": [
              "\n",
              "  <div id=\"df-fb9dc06e-b920-4b54-a1a8-b92afb5076b4\">\n",
              "    <div class=\"colab-df-container\">\n",
              "      <div>\n",
              "<style scoped>\n",
              "    .dataframe tbody tr th:only-of-type {\n",
              "        vertical-align: middle;\n",
              "    }\n",
              "\n",
              "    .dataframe tbody tr th {\n",
              "        vertical-align: top;\n",
              "    }\n",
              "\n",
              "    .dataframe thead th {\n",
              "        text-align: right;\n",
              "    }\n",
              "</style>\n",
              "<table border=\"1\" class=\"dataframe\">\n",
              "  <thead>\n",
              "    <tr style=\"text-align: right;\">\n",
              "      <th></th>\n",
              "      <th>Text</th>\n",
              "      <th>Emotion</th>\n",
              "    </tr>\n",
              "  </thead>\n",
              "  <tbody>\n",
              "    <tr>\n",
              "      <th>0</th>\n",
              "      <td>i didnt feel humiliated</td>\n",
              "      <td>sadness</td>\n",
              "    </tr>\n",
              "    <tr>\n",
              "      <th>1</th>\n",
              "      <td>i can go from feeling so hopeless to so damned...</td>\n",
              "      <td>sadness</td>\n",
              "    </tr>\n",
              "    <tr>\n",
              "      <th>2</th>\n",
              "      <td>im grabbing a minute to post i feel greedy wrong</td>\n",
              "      <td>anger</td>\n",
              "    </tr>\n",
              "    <tr>\n",
              "      <th>3</th>\n",
              "      <td>i am ever feeling nostalgic about the fireplac...</td>\n",
              "      <td>love</td>\n",
              "    </tr>\n",
              "    <tr>\n",
              "      <th>4</th>\n",
              "      <td>i am feeling grouchy</td>\n",
              "      <td>anger</td>\n",
              "    </tr>\n",
              "  </tbody>\n",
              "</table>\n",
              "</div>\n",
              "      <button class=\"colab-df-convert\" onclick=\"convertToInteractive('df-fb9dc06e-b920-4b54-a1a8-b92afb5076b4')\"\n",
              "              title=\"Convert this dataframe to an interactive table.\"\n",
              "              style=\"display:none;\">\n",
              "        \n",
              "  <svg xmlns=\"http://www.w3.org/2000/svg\" height=\"24px\"viewBox=\"0 0 24 24\"\n",
              "       width=\"24px\">\n",
              "    <path d=\"M0 0h24v24H0V0z\" fill=\"none\"/>\n",
              "    <path d=\"M18.56 5.44l.94 2.06.94-2.06 2.06-.94-2.06-.94-.94-2.06-.94 2.06-2.06.94zm-11 1L8.5 8.5l.94-2.06 2.06-.94-2.06-.94L8.5 2.5l-.94 2.06-2.06.94zm10 10l.94 2.06.94-2.06 2.06-.94-2.06-.94-.94-2.06-.94 2.06-2.06.94z\"/><path d=\"M17.41 7.96l-1.37-1.37c-.4-.4-.92-.59-1.43-.59-.52 0-1.04.2-1.43.59L10.3 9.45l-7.72 7.72c-.78.78-.78 2.05 0 2.83L4 21.41c.39.39.9.59 1.41.59.51 0 1.02-.2 1.41-.59l7.78-7.78 2.81-2.81c.8-.78.8-2.07 0-2.86zM5.41 20L4 18.59l7.72-7.72 1.47 1.35L5.41 20z\"/>\n",
              "  </svg>\n",
              "      </button>\n",
              "      \n",
              "  <style>\n",
              "    .colab-df-container {\n",
              "      display:flex;\n",
              "      flex-wrap:wrap;\n",
              "      gap: 12px;\n",
              "    }\n",
              "\n",
              "    .colab-df-convert {\n",
              "      background-color: #E8F0FE;\n",
              "      border: none;\n",
              "      border-radius: 50%;\n",
              "      cursor: pointer;\n",
              "      display: none;\n",
              "      fill: #1967D2;\n",
              "      height: 32px;\n",
              "      padding: 0 0 0 0;\n",
              "      width: 32px;\n",
              "    }\n",
              "\n",
              "    .colab-df-convert:hover {\n",
              "      background-color: #E2EBFA;\n",
              "      box-shadow: 0px 1px 2px rgba(60, 64, 67, 0.3), 0px 1px 3px 1px rgba(60, 64, 67, 0.15);\n",
              "      fill: #174EA6;\n",
              "    }\n",
              "\n",
              "    [theme=dark] .colab-df-convert {\n",
              "      background-color: #3B4455;\n",
              "      fill: #D2E3FC;\n",
              "    }\n",
              "\n",
              "    [theme=dark] .colab-df-convert:hover {\n",
              "      background-color: #434B5C;\n",
              "      box-shadow: 0px 1px 3px 1px rgba(0, 0, 0, 0.15);\n",
              "      filter: drop-shadow(0px 1px 2px rgba(0, 0, 0, 0.3));\n",
              "      fill: #FFFFFF;\n",
              "    }\n",
              "  </style>\n",
              "\n",
              "      <script>\n",
              "        const buttonEl =\n",
              "          document.querySelector('#df-fb9dc06e-b920-4b54-a1a8-b92afb5076b4 button.colab-df-convert');\n",
              "        buttonEl.style.display =\n",
              "          google.colab.kernel.accessAllowed ? 'block' : 'none';\n",
              "\n",
              "        async function convertToInteractive(key) {\n",
              "          const element = document.querySelector('#df-fb9dc06e-b920-4b54-a1a8-b92afb5076b4');\n",
              "          const dataTable =\n",
              "            await google.colab.kernel.invokeFunction('convertToInteractive',\n",
              "                                                     [key], {});\n",
              "          if (!dataTable) return;\n",
              "\n",
              "          const docLinkHtml = 'Like what you see? Visit the ' +\n",
              "            '<a target=\"_blank\" href=https://colab.research.google.com/notebooks/data_table.ipynb>data table notebook</a>'\n",
              "            + ' to learn more about interactive tables.';\n",
              "          element.innerHTML = '';\n",
              "          dataTable['output_type'] = 'display_data';\n",
              "          await google.colab.output.renderOutput(dataTable, element);\n",
              "          const docLink = document.createElement('div');\n",
              "          docLink.innerHTML = docLinkHtml;\n",
              "          element.appendChild(docLink);\n",
              "        }\n",
              "      </script>\n",
              "    </div>\n",
              "  </div>\n",
              "  "
            ],
            "text/plain": [
              "                                                Text  Emotion\n",
              "0                            i didnt feel humiliated  sadness\n",
              "1  i can go from feeling so hopeless to so damned...  sadness\n",
              "2   im grabbing a minute to post i feel greedy wrong    anger\n",
              "3  i am ever feeling nostalgic about the fireplac...     love\n",
              "4                               i am feeling grouchy    anger"
            ]
          },
          "execution_count": 5,
          "metadata": {},
          "output_type": "execute_result"
        }
      ],
      "source": [
        "df.head()"
      ]
    },
    {
      "cell_type": "code",
      "execution_count": null,
      "metadata": {
        "colab": {
          "base_uri": "https://localhost:8080/"
        },
        "id": "9ZDJEzxBsigs",
        "outputId": "ba229291-bbdc-4b64-9768-21458deccc50"
      },
      "outputs": [
        {
          "data": {
            "text/plain": [
              "happy       7029\n",
              "sadness     6265\n",
              "anger       2993\n",
              "fear        2652\n",
              "love        1641\n",
              "surprise     879\n",
              "Name: Emotion, dtype: int64"
            ]
          },
          "execution_count": 6,
          "metadata": {},
          "output_type": "execute_result"
        }
      ],
      "source": [
        "df['Emotion'].value_counts()"
      ]
    },
    {
      "cell_type": "code",
      "execution_count": null,
      "metadata": {
        "colab": {
          "base_uri": "https://localhost:8080/"
        },
        "id": "FdCC6hUZsqM0",
        "outputId": "e2224ae6-c104-451c-a5f1-0986024af193"
      },
      "outputs": [
        {
          "data": {
            "text/plain": [
              "Text       0\n",
              "Emotion    0\n",
              "dtype: int64"
            ]
          },
          "execution_count": 7,
          "metadata": {},
          "output_type": "execute_result"
        }
      ],
      "source": [
        "df.isnull().sum()"
      ]
    },
    {
      "cell_type": "code",
      "execution_count": null,
      "metadata": {
        "id": "3rBZPHCZsrZU"
      },
      "outputs": [],
      "source": [
        "category = pd.get_dummies(df.Emotion)\n",
        "df1 = pd.concat([df, category], axis=1)\n",
        "df1 = df1.drop(columns='Emotion')"
      ]
    },
    {
      "cell_type": "markdown",
      "metadata": {
        "id": "G5KN_wlDsy0N"
      },
      "source": [
        "Data Preprocessing"
      ]
    },
    {
      "cell_type": "code",
      "execution_count": null,
      "metadata": {
        "id": "Rsm78uLns1xN"
      },
      "outputs": [],
      "source": [
        "X = df1['Text'].values\n",
        "y = df1[['happy', 'sadness', 'anger', 'fear', 'love', 'surprise']].values"
      ]
    },
    {
      "cell_type": "code",
      "execution_count": null,
      "metadata": {
        "id": "XOhbY_s7tBs1"
      },
      "outputs": [],
      "source": [
        "from sklearn.model_selection import train_test_split\n",
        "X_train, X_test, y_train, y_test = train_test_split(X, y, test_size=0.2, random_state=1)"
      ]
    },
    {
      "cell_type": "code",
      "execution_count": null,
      "metadata": {
        "id": "fcxpwP9NtNjF"
      },
      "outputs": [],
      "source": [
        "tokenizer = Tokenizer(num_words = 5000, oov_token='<x>', filters='!\"#$%&()*+,-./:;<=>?@[\\\\]^_`{|}~\\t\\n', lower=True)\n",
        "tokenizer.fit_on_texts(X_train)\n",
        "tokenizer.fit_on_texts(X_test)\n",
        "\n",
        "Seq_train = tokenizer.texts_to_sequences(X_train)\n",
        "Seq_test = tokenizer.texts_to_sequences(X_test)\n",
        "\n",
        "Pad_train = pad_sequences(Seq_train)\n",
        "Pad_test = pad_sequences(Seq_test)"
      ]
    },
    {
      "cell_type": "code",
      "execution_count": null,
      "metadata": {
        "colab": {
          "base_uri": "https://localhost:8080/"
        },
        "id": "tnFeSl7jdNY3",
        "outputId": "87f09b82-945f-4110-e406-a6e1c27cf164"
      },
      "outputs": [
        {
          "name": "stdout",
          "output_type": "stream",
          "text": [
            "Vocabulary size = 19260\n"
          ]
        }
      ],
      "source": [
        "vocabSize = len(tokenizer.index_word) + 1\n",
        "print(f\"Vocabulary size = {vocabSize}\")\n"
      ]
    },
    {
      "cell_type": "markdown",
      "metadata": {
        "id": "l06x6lAduYgu"
      },
      "source": [
        "**LSTM**"
      ]
    },
    {
      "cell_type": "markdown",
      "metadata": {
        "id": "cImhDVgJucom"
      },
      "source": [
        "Model Building"
      ]
    },
    {
      "cell_type": "code",
      "execution_count": null,
      "metadata": {
        "id": "DdltMeMAugUO"
      },
      "outputs": [],
      "source": [
        "model = Sequential([\n",
        "    Embedding(input_dim = 5000, output_dim = 128),\n",
        "    LSTM(128, return_sequences=True),\n",
        "    Dropout(0.2),\n",
        "    LSTM(64),\n",
        "    Dropout(0.2),\n",
        "    Dense(128, activation='relu'),\n",
        "    Dropout(0.2),\n",
        "    Dense(64, activation='relu'),\n",
        "    Dropout(0.2),\n",
        "    Dense(6, activation='softmax')\n",
        "])"
      ]
    },
    {
      "cell_type": "code",
      "execution_count": null,
      "metadata": {
        "colab": {
          "base_uri": "https://localhost:8080/"
        },
        "id": "-MUCbhfPui8W",
        "outputId": "1c24f363-8d3f-4dfa-b21d-3e01d2d5e21f"
      },
      "outputs": [
        {
          "name": "stdout",
          "output_type": "stream",
          "text": [
            "Model: \"sequential_1\"\n",
            "_________________________________________________________________\n",
            " Layer (type)                Output Shape              Param #   \n",
            "=================================================================\n",
            " embedding_1 (Embedding)     (None, None, 128)         640000    \n",
            "                                                                 \n",
            " lstm_1 (LSTM)               (None, None, 128)         131584    \n",
            "                                                                 \n",
            " dropout_4 (Dropout)         (None, None, 128)         0         \n",
            "                                                                 \n",
            " lstm_2 (LSTM)               (None, 64)                49408     \n",
            "                                                                 \n",
            " dropout_5 (Dropout)         (None, 64)                0         \n",
            "                                                                 \n",
            " dense_2 (Dense)             (None, 128)               8320      \n",
            "                                                                 \n",
            " dropout_6 (Dropout)         (None, 128)               0         \n",
            "                                                                 \n",
            " dense_3 (Dense)             (None, 64)                8256      \n",
            "                                                                 \n",
            " dropout_7 (Dropout)         (None, 64)                0         \n",
            "                                                                 \n",
            " dense_4 (Dense)             (None, 6)                 390       \n",
            "                                                                 \n",
            "=================================================================\n",
            "Total params: 837,958\n",
            "Trainable params: 837,958\n",
            "Non-trainable params: 0\n",
            "_________________________________________________________________\n"
          ]
        }
      ],
      "source": [
        "model.summary()"
      ]
    },
    {
      "cell_type": "markdown",
      "metadata": {
        "id": "d0_qp3jaumge"
      },
      "source": [
        "Model Training"
      ]
    },
    {
      "cell_type": "code",
      "execution_count": null,
      "metadata": {
        "id": "DxK4MdgXuorG"
      },
      "outputs": [],
      "source": [
        "model.compile(\n",
        "    optimizer='adam',\n",
        "    loss='categorical_crossentropy',\n",
        "    metrics=['accuracy']\n",
        ")"
      ]
    },
    {
      "cell_type": "code",
      "execution_count": null,
      "metadata": {
        "colab": {
          "base_uri": "https://localhost:8080/"
        },
        "id": "hE9fwVzauqz-",
        "outputId": "bcae748e-23dc-4465-f260-e6ed3d9e1567"
      },
      "outputs": [
        {
          "name": "stdout",
          "output_type": "stream",
          "text": [
            "Epoch 1/60\n",
            "68/68 [==============================] - 58s 779ms/step - loss: 1.6251 - accuracy: 0.3088 - val_loss: 1.5490 - val_accuracy: 0.3497\n",
            "Epoch 2/60\n",
            "68/68 [==============================] - 52s 763ms/step - loss: 1.2335 - accuracy: 0.5029 - val_loss: 0.8154 - val_accuracy: 0.6966\n",
            "Epoch 3/60\n",
            "68/68 [==============================] - 52s 762ms/step - loss: 0.5690 - accuracy: 0.7998 - val_loss: 0.5073 - val_accuracy: 0.8288\n",
            "Epoch 4/60\n",
            "68/68 [==============================] - 53s 781ms/step - loss: 0.3474 - accuracy: 0.8877 - val_loss: 0.4238 - val_accuracy: 0.8625\n",
            "Epoch 5/60\n",
            "68/68 [==============================] - 52s 760ms/step - loss: 0.2433 - accuracy: 0.9242 - val_loss: 0.3862 - val_accuracy: 0.8753\n",
            "Epoch 6/60\n",
            "68/68 [==============================] - 53s 786ms/step - loss: 0.1897 - accuracy: 0.9423 - val_loss: 0.3633 - val_accuracy: 0.8891\n",
            "Epoch 7/60\n",
            "68/68 [==============================] - 53s 786ms/step - loss: 0.1466 - accuracy: 0.9557 - val_loss: 0.3783 - val_accuracy: 0.8952\n",
            "Epoch 8/60\n",
            "68/68 [==============================] - 52s 766ms/step - loss: 0.1179 - accuracy: 0.9635 - val_loss: 0.4330 - val_accuracy: 0.8924\n",
            "Epoch 9/60\n",
            "68/68 [==============================] - 54s 793ms/step - loss: 0.1118 - accuracy: 0.9657 - val_loss: 0.3990 - val_accuracy: 0.8959\n",
            "Epoch 10/60\n",
            "68/68 [==============================] - 53s 787ms/step - loss: 0.1035 - accuracy: 0.9664 - val_loss: 0.4920 - val_accuracy: 0.8917\n",
            "Epoch 11/60\n",
            "68/68 [==============================] - 53s 783ms/step - loss: 0.0818 - accuracy: 0.9743 - val_loss: 0.4702 - val_accuracy: 0.8975\n",
            "Epoch 12/60\n",
            "68/68 [==============================] - 53s 772ms/step - loss: 0.0767 - accuracy: 0.9756 - val_loss: 0.4019 - val_accuracy: 0.8979\n",
            "Epoch 13/60\n",
            "68/68 [==============================] - 52s 766ms/step - loss: 0.0671 - accuracy: 0.9794 - val_loss: 0.4514 - val_accuracy: 0.8979\n",
            "Epoch 14/60\n",
            "68/68 [==============================] - 52s 765ms/step - loss: 0.0576 - accuracy: 0.9814 - val_loss: 0.4701 - val_accuracy: 0.8986\n",
            "Epoch 15/60\n",
            "68/68 [==============================] - 52s 763ms/step - loss: 0.0563 - accuracy: 0.9812 - val_loss: 0.4897 - val_accuracy: 0.8968\n",
            "Epoch 16/60\n",
            "68/68 [==============================] - 52s 764ms/step - loss: 0.0736 - accuracy: 0.9761 - val_loss: 0.4664 - val_accuracy: 0.8991\n",
            "Epoch 17/60\n",
            "68/68 [==============================] - 52s 763ms/step - loss: 0.0522 - accuracy: 0.9829 - val_loss: 0.4567 - val_accuracy: 0.9047\n",
            "Epoch 18/60\n",
            "68/68 [==============================] - 52s 768ms/step - loss: 0.0399 - accuracy: 0.9877 - val_loss: 0.5174 - val_accuracy: 0.8989\n",
            "Epoch 19/60\n",
            "68/68 [==============================] - 52s 767ms/step - loss: 0.0427 - accuracy: 0.9870 - val_loss: 0.5142 - val_accuracy: 0.9031\n",
            "Epoch 20/60\n",
            "68/68 [==============================] - 52s 763ms/step - loss: 0.0377 - accuracy: 0.9870 - val_loss: 0.5923 - val_accuracy: 0.9005\n",
            "Epoch 21/60\n",
            "68/68 [==============================] - 52s 761ms/step - loss: 0.0335 - accuracy: 0.9888 - val_loss: 0.6048 - val_accuracy: 0.8926\n",
            "Epoch 22/60\n",
            "68/68 [==============================] - 52s 765ms/step - loss: 0.0438 - accuracy: 0.9856 - val_loss: 0.5375 - val_accuracy: 0.9003\n",
            "Epoch 23/60\n",
            "68/68 [==============================] - 52s 764ms/step - loss: 0.0416 - accuracy: 0.9861 - val_loss: 0.5261 - val_accuracy: 0.8959\n",
            "Epoch 24/60\n",
            "68/68 [==============================] - 52s 765ms/step - loss: 0.0328 - accuracy: 0.9899 - val_loss: 0.5712 - val_accuracy: 0.8991\n",
            "Epoch 25/60\n",
            "68/68 [==============================] - 51s 752ms/step - loss: 0.0309 - accuracy: 0.9900 - val_loss: 0.5791 - val_accuracy: 0.8942\n",
            "Epoch 26/60\n",
            "68/68 [==============================] - 52s 763ms/step - loss: 0.0700 - accuracy: 0.9793 - val_loss: 0.4993 - val_accuracy: 0.8928\n",
            "Epoch 27/60\n",
            "68/68 [==============================] - 51s 747ms/step - loss: 0.0433 - accuracy: 0.9849 - val_loss: 0.5067 - val_accuracy: 0.8991\n",
            "Epoch 28/60\n",
            "68/68 [==============================] - 52s 766ms/step - loss: 0.0346 - accuracy: 0.9894 - val_loss: 0.5704 - val_accuracy: 0.8956\n",
            "Epoch 29/60\n",
            "68/68 [==============================] - 52s 763ms/step - loss: 0.0327 - accuracy: 0.9895 - val_loss: 0.5302 - val_accuracy: 0.8991\n",
            "Epoch 30/60\n",
            "68/68 [==============================] - 51s 755ms/step - loss: 0.0276 - accuracy: 0.9910 - val_loss: 0.5776 - val_accuracy: 0.8968\n",
            "Epoch 31/60\n",
            "68/68 [==============================] - 52s 764ms/step - loss: 0.0227 - accuracy: 0.9927 - val_loss: 0.6313 - val_accuracy: 0.8938\n",
            "Epoch 32/60\n",
            "68/68 [==============================] - 52s 761ms/step - loss: 0.0265 - accuracy: 0.9920 - val_loss: 0.5758 - val_accuracy: 0.8996\n",
            "Epoch 33/60\n",
            "68/68 [==============================] - 52s 762ms/step - loss: 0.0266 - accuracy: 0.9916 - val_loss: 0.5870 - val_accuracy: 0.8973\n",
            "Epoch 34/60\n",
            "68/68 [==============================] - 52s 761ms/step - loss: 0.0289 - accuracy: 0.9909 - val_loss: 0.5496 - val_accuracy: 0.8968\n",
            "Epoch 35/60\n",
            "68/68 [==============================] - 52s 761ms/step - loss: 0.0298 - accuracy: 0.9904 - val_loss: 0.5562 - val_accuracy: 0.9000\n",
            "Epoch 36/60\n",
            "68/68 [==============================] - 52s 765ms/step - loss: 0.0204 - accuracy: 0.9927 - val_loss: 0.6188 - val_accuracy: 0.9014\n",
            "Epoch 37/60\n",
            "68/68 [==============================] - 52s 760ms/step - loss: 0.0182 - accuracy: 0.9939 - val_loss: 0.6550 - val_accuracy: 0.8968\n",
            "Epoch 38/60\n",
            "68/68 [==============================] - 52s 762ms/step - loss: 0.0216 - accuracy: 0.9927 - val_loss: 0.5962 - val_accuracy: 0.9005\n",
            "Epoch 39/60\n",
            "68/68 [==============================] - 51s 757ms/step - loss: 0.0210 - accuracy: 0.9933 - val_loss: 0.6409 - val_accuracy: 0.8973\n",
            "Epoch 40/60\n",
            "68/68 [==============================] - 51s 758ms/step - loss: 0.0235 - accuracy: 0.9925 - val_loss: 0.5839 - val_accuracy: 0.8979\n",
            "Epoch 41/60\n",
            "68/68 [==============================] - 50s 734ms/step - loss: 0.0193 - accuracy: 0.9934 - val_loss: 0.6215 - val_accuracy: 0.8933\n",
            "Epoch 42/60\n",
            "68/68 [==============================] - 53s 768ms/step - loss: 0.0167 - accuracy: 0.9942 - val_loss: 0.6461 - val_accuracy: 0.8947\n",
            "Epoch 43/60\n",
            "68/68 [==============================] - 51s 738ms/step - loss: 0.0154 - accuracy: 0.9943 - val_loss: 0.6757 - val_accuracy: 0.8952\n",
            "Epoch 44/60\n",
            "68/68 [==============================] - 52s 774ms/step - loss: 0.0161 - accuracy: 0.9942 - val_loss: 0.6855 - val_accuracy: 0.8977\n",
            "Epoch 45/60\n",
            "68/68 [==============================] - 52s 773ms/step - loss: 0.0128 - accuracy: 0.9952 - val_loss: 0.6937 - val_accuracy: 0.8942\n",
            "Epoch 46/60\n",
            "68/68 [==============================] - 53s 776ms/step - loss: 0.0132 - accuracy: 0.9946 - val_loss: 0.6978 - val_accuracy: 0.8952\n",
            "Epoch 47/60\n",
            "68/68 [==============================] - 53s 775ms/step - loss: 0.0137 - accuracy: 0.9950 - val_loss: 0.7191 - val_accuracy: 0.8959\n",
            "Epoch 48/60\n",
            "68/68 [==============================] - 53s 771ms/step - loss: 0.0312 - accuracy: 0.9892 - val_loss: 0.6511 - val_accuracy: 0.8947\n",
            "Epoch 49/60\n",
            "68/68 [==============================] - 53s 768ms/step - loss: 0.0248 - accuracy: 0.9911 - val_loss: 0.5993 - val_accuracy: 0.9003\n",
            "Epoch 50/60\n",
            "68/68 [==============================] - 52s 767ms/step - loss: 0.0165 - accuracy: 0.9941 - val_loss: 0.6418 - val_accuracy: 0.9000\n",
            "Epoch 51/60\n",
            "68/68 [==============================] - 51s 740ms/step - loss: 0.0132 - accuracy: 0.9948 - val_loss: 0.6955 - val_accuracy: 0.8982\n",
            "Epoch 52/60\n",
            "68/68 [==============================] - 52s 773ms/step - loss: 0.0143 - accuracy: 0.9943 - val_loss: 0.6757 - val_accuracy: 0.9010\n",
            "Epoch 53/60\n",
            "68/68 [==============================] - 52s 773ms/step - loss: 0.0130 - accuracy: 0.9950 - val_loss: 0.7359 - val_accuracy: 0.8998\n",
            "Epoch 54/60\n",
            "68/68 [==============================] - 53s 777ms/step - loss: 0.0114 - accuracy: 0.9955 - val_loss: 0.7372 - val_accuracy: 0.8947\n",
            "Epoch 55/60\n",
            "68/68 [==============================] - 53s 778ms/step - loss: 0.0097 - accuracy: 0.9959 - val_loss: 0.7843 - val_accuracy: 0.8979\n",
            "Epoch 56/60\n",
            "68/68 [==============================] - 53s 776ms/step - loss: 0.0100 - accuracy: 0.9953 - val_loss: 0.7922 - val_accuracy: 0.8919\n",
            "Epoch 57/60\n",
            "68/68 [==============================] - 53s 776ms/step - loss: 0.0095 - accuracy: 0.9957 - val_loss: 0.7780 - val_accuracy: 0.8938\n",
            "Epoch 58/60\n",
            "68/68 [==============================] - 53s 776ms/step - loss: 0.0276 - accuracy: 0.9917 - val_loss: 0.6477 - val_accuracy: 0.8875\n",
            "Epoch 59/60\n",
            "68/68 [==============================] - 53s 776ms/step - loss: 0.0251 - accuracy: 0.9923 - val_loss: 0.6597 - val_accuracy: 0.8977\n",
            "Epoch 60/60\n",
            "68/68 [==============================] - 51s 747ms/step - loss: 0.0178 - accuracy: 0.9932 - val_loss: 0.6609 - val_accuracy: 0.8940\n"
          ]
        }
      ],
      "source": [
        "history = model.fit(\n",
        "    Pad_train, y_train,\n",
        "    epochs = 60,\n",
        "    batch_size = 256,\n",
        "    validation_data = (Pad_test, y_test),\n",
        "    verbose = 1,\n",
        ")"
      ]
    },
    {
      "cell_type": "markdown",
      "metadata": {
        "id": "yFmkU9IDuudG"
      },
      "source": [
        "Graph Plot"
      ]
    },
    {
      "cell_type": "code",
      "execution_count": null,
      "metadata": {
        "colab": {
          "base_uri": "https://localhost:8080/",
          "height": 803
        },
        "id": "z5mGF6_Zuw2u",
        "outputId": "5ba5847f-0fbd-4f16-e2ad-59ec524df496"
      },
      "outputs": [
        {
          "data": {
            "image/png": "[encoded data removed]",
            "text/plain": [
              "<Figure size 600x400 with 1 Axes>"
            ]
          },
          "metadata": {},
          "output_type": "display_data"
        },
        {
          "data": {
            "image/png": "[encoded data removed]",
            "text/plain": [
              "<Figure size 600x400 with 1 Axes>"
            ]
          },
          "metadata": {},
          "output_type": "display_data"
        }
      ],
      "source": [
        "plt.figure(figsize=(6,4))\n",
        "plt.plot(history.history['accuracy'])\n",
        "plt.plot(history.history['val_accuracy'])\n",
        "plt.title('Accuracy')\n",
        "plt.ylabel('accuracy')\n",
        "plt.xlabel('epoch')\n",
        "plt.legend(['train', 'Validation'], loc='upper left')\n",
        "plt.show()\n",
        "\n",
        "plt.figure(figsize=(6,4))\n",
        "plt.plot(history.history['loss'])\n",
        "plt.plot(history.history['val_loss'])\n",
        "plt.title('Loss')\n",
        "plt.ylabel('Loss')\n",
        "plt.xlabel('epoch')\n",
        "plt.legend(['train', 'Validation'], loc='upper left')\n",
        "plt.show()"
      ]
    }
  ],
  "metadata": {
    "colab": {
      "provenance": []
    },
    "kernelspec": {
      "display_name": "Python 3",
      "name": "python3"
    },
    "language_info": {
      "name": "python"
    }
  },
  "nbformat": 4,
  "nbformat_minor": 0
}
